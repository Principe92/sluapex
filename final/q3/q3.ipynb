{
  "nbformat": 4,
  "nbformat_minor": 0,
  "metadata": {
    "colab": {
      "name": "q3.ipynb",
      "provenance": []
    },
    "kernelspec": {
      "name": "python3",
      "display_name": "Python 3"
    },
    "language_info": {
      "name": "python"
    },
    "accelerator": "GPU"
  },
  "cells": [
    {
      "cell_type": "code",
      "metadata": {
        "colab": {
          "base_uri": "https://localhost:8080/"
        },
        "id": "_-GmYp6K6OYm",
        "outputId": "827ef5c7-7246-4472-8b8b-7d243c48d37e"
      },
      "source": [
        "!nvidia-smi"
      ],
      "execution_count": 1,
      "outputs": [
        {
          "output_type": "stream",
          "text": [
            "Thu May 13 22:46:44 2021       \n",
            "+-----------------------------------------------------------------------------+\n",
            "| NVIDIA-SMI 465.19.01    Driver Version: 460.32.03    CUDA Version: 11.2     |\n",
            "|-------------------------------+----------------------+----------------------+\n",
            "| GPU  Name        Persistence-M| Bus-Id        Disp.A | Volatile Uncorr. ECC |\n",
            "| Fan  Temp  Perf  Pwr:Usage/Cap|         Memory-Usage | GPU-Util  Compute M. |\n",
            "|                               |                      |               MIG M. |\n",
            "|===============================+======================+======================|\n",
            "|   0  Tesla T4            Off  | 00000000:00:04.0 Off |                    0 |\n",
            "| N/A   38C    P8     9W /  70W |      0MiB / 15109MiB |      0%      Default |\n",
            "|                               |                      |                  N/A |\n",
            "+-------------------------------+----------------------+----------------------+\n",
            "                                                                               \n",
            "+-----------------------------------------------------------------------------+\n",
            "| Processes:                                                                  |\n",
            "|  GPU   GI   CI        PID   Type   Process name                  GPU Memory |\n",
            "|        ID   ID                                                   Usage      |\n",
            "|=============================================================================|\n",
            "|  No running processes found                                                 |\n",
            "+-----------------------------------------------------------------------------+\n"
          ],
          "name": "stdout"
        }
      ]
    },
    {
      "cell_type": "code",
      "metadata": {
        "colab": {
          "base_uri": "https://localhost:8080/"
        },
        "id": "-mpaM9iz6WZg",
        "outputId": "5ba02d6c-a026-4596-f0b8-ff5409ac0b73"
      },
      "source": [
        "!pip install git+git://github.com/andreinechaev/nvcc4jupyter.git"
      ],
      "execution_count": 2,
      "outputs": [
        {
          "output_type": "stream",
          "text": [
            "Collecting git+git://github.com/andreinechaev/nvcc4jupyter.git\n",
            "  Cloning git://github.com/andreinechaev/nvcc4jupyter.git to /tmp/pip-req-build-bj4rwjul\n",
            "  Running command git clone -q git://github.com/andreinechaev/nvcc4jupyter.git /tmp/pip-req-build-bj4rwjul\n",
            "Building wheels for collected packages: NVCCPlugin\n",
            "  Building wheel for NVCCPlugin (setup.py) ... \u001b[?25l\u001b[?25hdone\n",
            "  Created wheel for NVCCPlugin: filename=NVCCPlugin-0.0.2-cp37-none-any.whl size=4307 sha256=208f21d67c6ba09f7b323b77a4daecdd4a2f2aa41b2b774f88d4d2e95ac08687\n",
            "  Stored in directory: /tmp/pip-ephem-wheel-cache-nh97otvq/wheels/10/c2/05/ca241da37bff77d60d31a9174f988109c61ba989e4d4650516\n",
            "Successfully built NVCCPlugin\n",
            "Installing collected packages: NVCCPlugin\n",
            "Successfully installed NVCCPlugin-0.0.2\n"
          ],
          "name": "stdout"
        }
      ]
    },
    {
      "cell_type": "code",
      "metadata": {
        "colab": {
          "base_uri": "https://localhost:8080/"
        },
        "id": "qQPdT6cI6eCx",
        "outputId": "b5e515fd-1694-4eba-8d31-635f8a7a8ab1"
      },
      "source": [
        "%load_ext nvcc_plugin"
      ],
      "execution_count": 3,
      "outputs": [
        {
          "output_type": "stream",
          "text": [
            "created output directory at /content/src\n",
            "Out bin /content/result.out\n"
          ],
          "name": "stdout"
        }
      ]
    },
    {
      "cell_type": "code",
      "metadata": {
        "colab": {
          "base_uri": "https://localhost:8080/"
        },
        "id": "WJz9-P803nA_",
        "outputId": "5fbc2c00-03f3-4452-c477-3684d4a1bc3e"
      },
      "source": [
        "%%cu\n",
        "#include <iostream>\n",
        "#include <cstdlib>\n",
        "\n",
        "#define N (100)\n",
        "#define BLOCKS 10\n",
        "\n",
        "using namespace std;\n",
        "\n",
        "__global__ void dot_product(int *a, int *b, int *c)\n",
        "{\n",
        "    int tid = threadIdx.x + blockIdx.x * blockDim.x;\n",
        "    if (tid < N)\n",
        "      c[tid] = a[tid] * b[tid];\n",
        "}\n",
        "\n",
        "int main()\n",
        "{\n",
        "    int a[N], b[N], c[N];\n",
        "    int *d_a, *d_b, *d_c;\n",
        "    int size = sizeof(int);\n",
        "    int sum = 0;\n",
        " \n",
        "    cudaMalloc((void **)&d_a, N*size);\n",
        "    cudaMalloc((void **)&d_b, N*size);\n",
        "    cudaMalloc((void **)&d_c, N*size);\n",
        " \n",
        "    for (int i=0; i<N; i++) {\n",
        "        a[i] = 1;\n",
        "        b[i] = 1;\n",
        "    }\n",
        " \n",
        "    cudaMemcpy(d_a, &a, N*size, cudaMemcpyHostToDevice);\n",
        "    cudaMemcpy(d_b, &b, N*size, cudaMemcpyHostToDevice);\n",
        "    \n",
        "    dot_product<<<BLOCKS, BLOCKS>>>(d_a, d_b, d_c);\n",
        "\n",
        "    cudaMemcpy(&c, d_c, N*size, cudaMemcpyDeviceToHost);\n",
        " \n",
        "    for (int i=0; i<N; i++) {\n",
        "        sum += c[i];\n",
        "    }\n",
        " \n",
        "    printf(\"Dot Product: %d\\n\", sum);\n",
        " \n",
        "    cudaFree(d_a);\n",
        "    cudaFree(d_b);\n",
        "    cudaFree(d_c);\n",
        " \n",
        "    return 0;\n",
        "}"
      ],
      "execution_count": 7,
      "outputs": [
        {
          "output_type": "stream",
          "text": [
            "Dot Product: 100\n",
            "\n"
          ],
          "name": "stdout"
        }
      ]
    },
    {
      "cell_type": "code",
      "metadata": {
        "id": "pP6BH5eY6JxV"
      },
      "source": [
        ""
      ],
      "execution_count": null,
      "outputs": []
    }
  ]
}